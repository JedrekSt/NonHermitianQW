{
 "cells": [
  {
   "cell_type": "code",
   "execution_count": 1,
   "metadata": {},
   "outputs": [],
   "source": [
    "import sys\n",
    "import os\n",
    "\n",
    "sys.path.append(os.path.dirname(os.path.dirname(os.path.abspath(\"NonHermitianQW\"))))"
   ]
  },
  {
   "cell_type": "code",
   "execution_count": 3,
   "metadata": {},
   "outputs": [],
   "source": [
    "import numpy as np\n",
    "from matplotlib import pyplot as plt\n",
    "from numpy.linalg import eig\n",
    "from scipy.linalg import expm\n",
    "from operators import op\n"
   ]
  },
  {
   "cell_type": "markdown",
   "metadata": {},
   "source": [
    "<h1>Description</h1>"
   ]
  },
  {
   "cell_type": "markdown",
   "metadata": {},
   "source": [
    "Here we study a very simple model of 2 dimensional, non-Hermitian Hamiltonian, that takes form of:\n",
    "$$\n",
    "H = \\kappa \\sigma_{x} + \\gamma \\sigma_{z}\n",
    "$$\n",
    "In matrix form it can be written as:\n",
    "$$\n",
    "H = \\left[\\begin{array}{cc}\n",
    "\\gamma & \\kappa \\\\\n",
    "\\kappa & -\\gamma \\\\\n",
    "\\end{array}\\right]\n",
    "$$\n",
    "Characteristic equation for this Hamiltonian is:\n",
    "$$\n",
    "\\lambda^{2} - \\gamma^{2} - \\kappa^{2} = 0\n",
    "$$\n",
    "which gives us two eigenvalues:\n",
    "$$\n",
    "\\lambda = \\pm \\sqrt{\\gamma^{2}+\\kappa^{2}}\n",
    "$$\n",
    "with respect to two right eigenvectors listed below:\n",
    "$$\n",
    "|\\psi^{R}_{\\pm} \\rangle  = \\left[\\begin{array}{c}\n",
    "\\kappa \\\\\n",
    "\\gamma\\mp \\sqrt{\\gamma^{2}+\\kappa^{2}}\n",
    "\\end{array}\\right]\n",
    "$$\n",
    "which are not normalized. It's obvious that for $\\kappa = \\pm i \\gamma$, we obtain secodn order exceptional point."
   ]
  },
  {
   "cell_type": "markdown",
   "metadata": {},
   "source": [
    "<h1>Visualization</h1>"
   ]
  },
  {
   "cell_type": "markdown",
   "metadata": {},
   "source": [
    "From this point, we take the value of $\\gamma$ to be equal to $1/2$. "
   ]
  },
  {
   "cell_type": "code",
   "execution_count": 8,
   "metadata": {},
   "outputs": [],
   "source": [
    "H_ = lambda k_,g_ : k_ * op.sx + g_ * op.sz\n",
    "Spectrum = np.vectorize(lambda k_,g_,i_ : eig(H_(k_,g_))[0][i_])"
   ]
  },
  {
   "cell_type": "code",
   "execution_count": 15,
   "metadata": {},
   "outputs": [],
   "source": [
    "k_ = 1/2\n",
    "re_g = np.arange(-1,1,0.01)\n",
    "im_g = np.arange(-1,1,0.01)\n",
    "re_g,im_g = np.meshgrid(re_g,im_g)\n",
    "g_ = re_g + 1j * im_g \n",
    "\n",
    "E0,E1 = Spectrum(k_,g_,0),Spectrum(k_,g_,1)\n"
   ]
  },
  {
   "cell_type": "code",
   "execution_count": 16,
   "metadata": {},
   "outputs": [],
   "source": [
    "def plot_surfaces(ax,E0,E1,g_,c_ = \"red\",a_ = 0.5):\n",
    "    ax.plot_surface(np.real(g_),np.imag(g_),E0,color = c_,alpha = a_)\n",
    "    ax.plot_surface(np.real(g_),np.imag(g_),E1,color = c_,alpha = a_)\n",
    "    ax.set_xlabel(r\"Re[$\\gamma$]\")\n",
    "    ax.set_ylabel(r\"Im[$\\gamma$]\")"
   ]
  },
  {
   "cell_type": "code",
   "execution_count": 25,
   "metadata": {},
   "outputs": [],
   "source": [
    "%matplotlib qt\n",
    "\n",
    "fig = plt.figure(figsize = (15,5))\n",
    "\n",
    "ax1 = fig.add_subplot(131,projection = \"3d\")\n",
    "plot_surfaces(ax1,np.real(E0),np.real(E1),g_,c_ = \"red\",a_ = 0.5)\n",
    "\n",
    "ax2 = fig.add_subplot(132,projection = \"3d\")\n",
    "plot_surfaces(ax2,np.imag(E0),np.imag(E1),g_,c_ = \"green\",a_ = 0.5)\n",
    "\n",
    "ax3 = fig.add_subplot(133,projection = \"3d\")\n",
    "plot_surfaces(ax3,np.abs(E0),np.abs(E1),g_,c_ = \"yellow\",a_ = 0.5)\n",
    "\n",
    "plt.show()"
   ]
  },
  {
   "cell_type": "code",
   "execution_count": null,
   "metadata": {},
   "outputs": [],
   "source": []
  }
 ],
 "metadata": {
  "kernelspec": {
   "display_name": "Python 3",
   "language": "python",
   "name": "python3"
  },
  "language_info": {
   "codemirror_mode": {
    "name": "ipython",
    "version": 3
   },
   "file_extension": ".py",
   "mimetype": "text/x-python",
   "name": "python",
   "nbconvert_exporter": "python",
   "pygments_lexer": "ipython3",
   "version": "3.12.4"
  }
 },
 "nbformat": 4,
 "nbformat_minor": 2
}
