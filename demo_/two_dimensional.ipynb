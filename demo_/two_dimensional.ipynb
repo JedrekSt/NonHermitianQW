{
 "cells": [
  {
   "cell_type": "code",
   "execution_count": 1,
   "metadata": {},
   "outputs": [],
   "source": [
    "import sys\n",
    "import os\n",
    "\n",
    "\n",
    "sys.path.append(os.path.dirname(os.path.dirname(os.path.abspath(\"NonHermitianQW\"))))"
   ]
  },
  {
   "cell_type": "code",
   "execution_count": 2,
   "metadata": {},
   "outputs": [],
   "source": [
    "from operators import op\n",
    "from oneDimQW import *\n",
    "from twoDimQW import *\n",
    "import numpy as np\n",
    "from matplotlib import pyplot as plt\n",
    "from numpy import pi\n",
    "from numpy.linalg import eig\n",
    "from scipy.linalg import expm\n",
    "from berry import BerryPhase\n",
    "from sympy import *\n",
    "from ploting import berry_bloch_phase"
   ]
  },
  {
   "cell_type": "code",
   "execution_count": 3,
   "metadata": {},
   "outputs": [],
   "source": [
    "import ipywidgets as widgets\n",
    "from ipywidgets import interact"
   ]
  },
  {
   "cell_type": "code",
   "execution_count": null,
   "metadata": {},
   "outputs": [],
   "source": [
    "dim_x = 25\n",
    "dim_y = 25\n",
    "\n",
    "x_coin_dict = {\n",
    "    \"th\" : pi/4,\n",
    "    \"n\" : [0,1,0]\n",
    "}\n",
    "y_coin_dict = {\n",
    "    \"th\" : pi/4,\n",
    "    \"n\" : [0,1,0]\n",
    "}"
   ]
  }
 ],
 "metadata": {
  "kernelspec": {
   "display_name": "Python 3",
   "language": "python",
   "name": "python3"
  },
  "language_info": {
   "codemirror_mode": {
    "name": "ipython",
    "version": 3
   },
   "file_extension": ".py",
   "mimetype": "text/x-python",
   "name": "python",
   "nbconvert_exporter": "python",
   "pygments_lexer": "ipython3",
   "version": "3.12.4"
  }
 },
 "nbformat": 4,
 "nbformat_minor": 2
}
