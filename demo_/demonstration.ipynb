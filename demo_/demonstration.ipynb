{
 "cells": [
  {
   "cell_type": "code",
   "execution_count": 1,
   "metadata": {},
   "outputs": [],
   "source": [
    "import sys\n",
    "import os\n",
    "\n",
    "sys.path.append(os.path.dirname(os.path.dirname(os.path.abspath(\"NonHermitianQW\"))))\n"
   ]
  },
  {
   "cell_type": "code",
   "execution_count": 2,
   "metadata": {},
   "outputs": [],
   "source": [
    "from operators import op\n",
    "from oneDimQW import *\n",
    "from twoDimQW import *\n",
    "import numpy as np\n",
    "from matplotlib import pyplot as plt\n",
    "from numpy import pi\n",
    "from numpy.linalg import eig\n",
    "from scipy.linalg import expm"
   ]
  },
  {
   "cell_type": "code",
   "execution_count": 3,
   "metadata": {},
   "outputs": [],
   "source": [
    "import ipywidgets as widgets\n",
    "from ipywidgets import interact"
   ]
  },
  {
   "cell_type": "markdown",
   "metadata": {},
   "source": [
    "<h1>Simple Quantum Walk</h1>"
   ]
  },
  {
   "cell_type": "markdown",
   "metadata": {},
   "source": [
    "<h3>Defining parameters</h3>"
   ]
  },
  {
   "cell_type": "code",
   "execution_count": 4,
   "metadata": {},
   "outputs": [],
   "source": [
    "dim = 50\n",
    "coin_dict = {\"th\" : pi/4 , \"n\" : [0,1,0]}\n",
    "init_state_dict = {\"x0\" : dim//2, \"a\" : 1, \"b\" : 1j}\n",
    "steps = 100\n",
    "\n",
    "model = one_dim_QW(dim,coin_dict,**init_state_dict)\n",
    "data = model.evolve(steps)"
   ]
  },
  {
   "cell_type": "code",
   "execution_count": 5,
   "metadata": {},
   "outputs": [],
   "source": [
    "def show_evolution(data):\n",
    "    _,n = data.shape\n",
    "    x = np.arange(0,n)\n",
    "    def inner(t):\n",
    "        fig, axs = plt.subplots(1,2,figsize = (10,5))\n",
    "        \n",
    "        cax = axs[0].imshow(data,cmap = \"viridis\")\n",
    "        fig.colorbar(cax)\n",
    "        axs[0].set_ylabel(\"t\")\n",
    "        axs[0].set_xlabel(\"x\")\n",
    "        axs[0].set_title(\"Probability map\")\n",
    "\n",
    "        x = np.arange(0,n)\n",
    "        axs[1].plot(x,data[int(t),:],color = \"blue\")\n",
    "        axs[1].set_xlabel(\"x\")\n",
    "        axs[1].set_ylabel(\"P\")\n",
    "        axs[1].set_title(\"Probability distribution\")\n",
    "        axs[1].fill_between(x,data[int(t),:],color=\"blue\",alpha = 0.4)\n",
    "    return inner"
   ]
  },
  {
   "cell_type": "code",
   "execution_count": 6,
   "metadata": {},
   "outputs": [
    {
     "data": {
      "application/vnd.jupyter.widget-view+json": {
       "model_id": "942484b1d4b6418982cc4ab86ddf010a",
       "version_major": 2,
       "version_minor": 0
      },
      "text/plain": [
       "interactive(children=(FloatSlider(value=0.0, description='steps', max=99.0, step=1.0), Output()), _dom_classes…"
      ]
     },
     "metadata": {},
     "output_type": "display_data"
    }
   ],
   "source": [
    "\n",
    "steps_slider = widgets.FloatSlider(value=0, min=0, max=steps-1, step=1, description='steps')\n",
    "interact(show_evolution(data), t = steps_slider)\n",
    "plt.show()\n"
   ]
  },
  {
   "cell_type": "markdown",
   "metadata": {},
   "source": [
    "<h3>Eigenspectrum</h3>"
   ]
  },
  {
   "cell_type": "code",
   "execution_count": 9,
   "metadata": {},
   "outputs": [],
   "source": [
    "U_k = model.momentum_U()\n",
    "En = - np.angle(eig(U_k)[0])\n",
    "\n",
    "Ep, Em = En[En > 0], En[En < 0]\n",
    "k = (np.arange(0,dim)-dim//2)*(2*pi/dim)"
   ]
  },
  {
   "cell_type": "code",
   "execution_count": 14,
   "metadata": {},
   "outputs": [
    {
     "data": {
      "image/png": "[encoded data removed]",
      "text/plain": [
       "<Figure size 600x300 with 1 Axes>"
      ]
     },
     "metadata": {},
     "output_type": "display_data"
    }
   ],
   "source": [
    "fig, ax = plt.subplots(figsize = (6,3))\n",
    "\n",
    "ax.scatter(k,Ep,color=\"blue\",alpha=0.5)\n",
    "ax.scatter(k,Em,color=\"red\",alpha=0.5)\n",
    "ax.set_xlabel(\"k\")\n",
    "ax.set_ylabel(r\"E(k)\")\n",
    "ax.set_title(\"Eigenspectrum\")\n",
    "\n",
    "plt.show()"
   ]
  },
  {
   "cell_type": "code",
   "execution_count": null,
   "metadata": {},
   "outputs": [],
   "source": []
  }
 ],
 "metadata": {
  "kernelspec": {
   "display_name": "Python 3",
   "language": "python",
   "name": "python3"
  },
  "language_info": {
   "codemirror_mode": {
    "name": "ipython",
    "version": 3
   },
   "file_extension": ".py",
   "mimetype": "text/x-python",
   "name": "python",
   "nbconvert_exporter": "python",
   "pygments_lexer": "ipython3",
   "version": "3.12.4"
  }
 },
 "nbformat": 4,
 "nbformat_minor": 2
}
